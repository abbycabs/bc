{
 "metadata": {
  "name": ""
 },
 "nbformat": 3,
 "nbformat_minor": 0,
 "worksheets": [
  {
   "cells": [
    {
     "cell_type": "heading",
     "level": 2,
     "metadata": {},
     "source": [
      "Database Introduction"
     ]
    },
    {
     "cell_type": "markdown",
     "metadata": {},
     "source": [
      "In the late 1920s and early 1930s,\n",
      "William Dyer,\n",
      "Frank Pabodie,\n",
      "and Valentina Roerich led expeditions to the\n",
      "[Pole of Inaccessibility](http://en.wikipedia.org/wiki/Pole_of_inaccessibility)\n",
      "in the South Pacific,\n",
      "and then onward to Antarctica.\n",
      "Two years ago,\n",
      "their expeditions were found in a storage locker at Miskatonic University.\n",
      "We have scanned and OCR'd the data they contain,\n",
      "and we now want to store that information\n",
      "in a way that will make search and analysis easy.\n",
      "\n",
      "We basically have three options:\n",
      "text files,\n",
      "a spreadsheet,\n",
      "or a database.\n",
      "Text files are easiest to create,\n",
      "and work well with version control,\n",
      "but then we would then have to build search and analysis tools ourselves.\n",
      "Spreadsheets are good for doing simple analysis,\n",
      "they don't handle large or complex data sets very well.\n",
      "We would therefore like to put this data in a database,\n",
      "and these lessons will show how to do that."
     ]
    },
    {
     "cell_type": "markdown",
     "metadata": {
      "cell_tags": [
       "objectives"
      ]
     },
     "source": [
      "#### Objectives\n",
      "\n",
      "*   Explain the difference between a record, and a field.\n",
      "*   Explain the difference between a database and a database manager.\n",
      "*   Write a query to select all values for specific fields from a single table."
     ]
    },
    {
     "cell_type": "heading",
     "level": 3,
     "metadata": {},
     "source": [
      "What is a Database?"
     ]
    },
    {
     "cell_type": "markdown",
     "metadata": {},
     "source": [
      "> ####database (d\u0101't\u0259-b\u0101s') *noun*\n",
      "> A collection of data arranged for ease and speed of search and retrieval by a computer. \n",
      "\n",
      "> <small>[The American Heritage\u00ae Science Dictionary](http://dictionary.reference.com/browse/database)</small>\n",
      "\n",
      "\n",
      "The simplest kind of database stores data in a [table](../../gloss.html#table-database) containing columns of [fields](../../gloss.html#field-database) which describe the data and rows of [records](../../gloss.html#record-database) which contain the data."
     ]
    },
    {
     "cell_type": "markdown",
     "metadata": {},
     "source": [
      "![fields and records](files/img/sql-fieldsrecords.svg)"
     ]
    },
    {
     "cell_type": "markdown",
     "metadata": {},
     "source": [
      "To start bringing in data from the Pole of Inaccessibility expedition, we'll put the explorers names in the table. This table has the fields '**Personal**' and '**Family**' and each record has the '**Personal**' and '**Family**' name of one of the explorers."
     ]
    },
    {
     "cell_type": "markdown",
     "metadata": {},
     "source": [
      "####Person\n",
      "<table>\n",
      "    <tr>\n",
      "        <th>Personal</th>\n",
      "        <th>Family</th>\n",
      "    </tr>\n",
      "    <tr>\n",
      "        <td>William</td>\n",
      "        <td>Dyer</td>\n",
      "    </tr>\n",
      "    <tr>\n",
      "        <td>Frank</td>\n",
      "        <td>Pabodie</td>\n",
      "    </tr>\n",
      "    <tr>\n",
      "        <td>Anderson</td>\n",
      "        <td>Lake</td>\n",
      "    </tr>\n",
      "    <tr>\n",
      "        <td>Valentina</td>\n",
      "        <td>Roerich</td>\n",
      "    </tr>\n",
      "    <tr>\n",
      "        <td>Frank</td>\n",
      "        <td>Danforth</td>\n",
      "    </tr>   \n",
      "</table>"
     ]
    },
    {
     "cell_type": "markdown",
     "metadata": {},
     "source": [
      "Since everything so far in the table is related to a person, this will be named the **Person** table"
     ]
    },
    {
     "cell_type": "heading",
     "level": 3,
     "metadata": {},
     "source": [
      "Database Manager"
     ]
    },
    {
     "cell_type": "markdown",
     "metadata": {},
     "source": [
      "When we are using a spreadsheet,\n",
      "we put formulas into cells to calculate new values based on old ones.\n",
      "When we are using a database,\n",
      "we send commands\n",
      "(usually called [queries](../../gloss.html#query))\n",
      "to a [database manager](../../gloss.html#database-manager):\n",
      "a program that manipulates the database for us.\n",
      "The database manager does whatever lookups and calculations the query specifies,\n",
      "returning the results in a tabular form\n",
      "that we can then use as a starting point for further queries.\n",
      "  \n",
      "> Every database manager&mdash;Oracle,\n",
      "> IBM DB2, PostgreSQL, MySQL, Microsoft Access, and SQLite&mdash;stores\n",
      "> data in a different way,\n",
      "> so a database created with one cannot be used directly by another.\n",
      "> However,\n",
      "> every database manager can import and export data in a variety of formats,\n",
      "> so it *is* possible to move information from one to another.\n",
      "\n",
      "\n",
      "\n",
      "For these examples we will be using [sqlite](http://www.sqlite.org/) as our database manager to access our database. To load sqlite:"
     ]
    },
    {
     "cell_type": "code",
     "collapsed": false,
     "input": [
      "%load_ext sqlitemagic"
     ],
     "language": "python",
     "metadata": {},
     "outputs": [],
     "prompt_number": 1
    },
    {
     "cell_type": "heading",
     "level": 4,
     "metadata": {},
     "source": [
      "Creating the Person Database"
     ]
    },
    {
     "cell_type": "markdown",
     "metadata": {},
     "source": [
      "To create our database with one table, we'll load the .sql file that defines and loads the `Person` table into a database called person.db."
     ]
    },
    {
     "cell_type": "code",
     "collapsed": false,
     "input": [
      "!sqlite3 person.db < gen-person-database.sql"
     ],
     "language": "python",
     "metadata": {},
     "outputs": [
      {
       "output_type": "stream",
       "stream": "stdout",
       "text": [
        "Error: near line 2: table Person already exists\r\n"
       ]
      }
     ],
     "prompt_number": 7
    },
    {
     "cell_type": "markdown",
     "metadata": {},
     "source": [
      "This just runs the content of the `gen-person-database.sql` file and loads into a database named person.db. The contents of gen-person-database.sql are copied out below for your reference:"
     ]
    },
    {
     "cell_type": "raw",
     "metadata": {},
     "source": [
      "-- The `Person` table is used to explain the most basic queries.\n",
      "-- Creating the table with the fields `personal` and `family`\n",
      "create table Person(\n",
      "  personal text,\n",
      "  family\t text\n",
      ");\n",
      "\n",
      "-- Inserting data into the `Person` table, one record per person\n",
      "insert into Person values('William',   'Dyer');\n",
      "insert into Person values('Frank',     'Pabodie');\n",
      "insert into Person values('Anderson',  'Lake');\n",
      "insert into Person values('Valentina', 'Roerich');\n",
      "insert into Person values('Frank',     'Danforth');"
     ]
    },
    {
     "cell_type": "heading",
     "level": 3,
     "metadata": {},
     "source": [
      "Selecting Data"
     ]
    },
    {
     "cell_type": "markdown",
     "metadata": {},
     "source": [
      "Queries are written in a language called [SQL](../../gloss.html#sql),\n",
      "which stands for \"Structured Query Language\".\n",
      "SQL provides hundreds of different ways to analyze and recombine data;\n",
      "we will only look at a handful,\n",
      "but that handful accounts for most of what scientists do.\n",
      "\n"
     ]
    },
    {
     "cell_type": "markdown",
     "metadata": {},
     "source": [
      "####Person\n",
      "<table>\n",
      "    <tr>\n",
      "        <th>Personal</th>\n",
      "        <th>Family</th>\n",
      "    </tr>\n",
      "    <tr>\n",
      "        <td>William</td>\n",
      "        <td>Dyer</td>\n",
      "    </tr>\n",
      "    <tr>\n",
      "        <td>Frank</td>\n",
      "        <td>Pabodie</td>\n",
      "    </tr>\n",
      "    <tr>\n",
      "        <td>Anderson</td>\n",
      "        <td>Lake</td>\n",
      "    </tr>\n",
      "    <tr>\n",
      "        <td>Valentina</td>\n",
      "        <td>Roerich</td>\n",
      "    </tr>\n",
      "    <tr>\n",
      "        <td>Frank</td>\n",
      "        <td>Danforth</td>\n",
      "    </tr>   \n",
      "</table>"
     ]
    },
    {
     "cell_type": "markdown",
     "metadata": {},
     "source": [
      "Now, using our `Person` table, let's write a few queries.\n",
      "\n",
      "Let's write an SQL query that displays scientists' names.\n",
      "We do this using the SQL command `select`,\n",
      "giving it the names of the columns we want and the table we want them from.\n",
      "Our query and its output look like this:"
     ]
    },
    {
     "cell_type": "code",
     "collapsed": false,
     "input": [
      "%%sqlite person.db\n",
      "select personal, family from Person;"
     ],
     "language": "python",
     "metadata": {},
     "outputs": [
      {
       "html": [
        "<table>\n",
        "<tr><td>William</td><td>Dyer</td></tr>\n",
        "<tr><td>Frank</td><td>Pabodie</td></tr>\n",
        "<tr><td>Anderson</td><td>Lake</td></tr>\n",
        "<tr><td>Valentina</td><td>Roerich</td></tr>\n",
        "<tr><td>Frank</td><td>Danforth</td></tr>\n",
        "</table>"
       ],
       "metadata": {},
       "output_type": "display_data",
       "text": [
        "<IPython.core.display.HTML at 0x105a4b210>"
       ]
      }
     ],
     "prompt_number": 3
    },
    {
     "cell_type": "markdown",
     "metadata": {},
     "source": [
      "The semi-colon at the end of the query\n",
      "tells the database manager that the query is complete and ready to run.\n",
      "We have written our commands and column names in lower case,\n",
      "and the table name in Title Case,\n",
      "but we don't have to:\n",
      "as the example below shows,\n",
      "SQL is [case insensitive](../../gloss.html#case-insensitive)."
     ]
    },
    {
     "cell_type": "code",
     "collapsed": false,
     "input": [
      "%%sqlite person.db\n",
      "SeLeCt PeRsOnAl, FaMiLy FrOm PeRsOn;"
     ],
     "language": "python",
     "metadata": {},
     "outputs": [
      {
       "html": [
        "<table>\n",
        "<tr><td>William</td><td>Dyer</td></tr>\n",
        "<tr><td>Frank</td><td>Pabodie</td></tr>\n",
        "<tr><td>Anderson</td><td>Lake</td></tr>\n",
        "<tr><td>Valentina</td><td>Roerich</td></tr>\n",
        "<tr><td>Frank</td><td>Danforth</td></tr>\n",
        "</table>"
       ],
       "metadata": {},
       "output_type": "display_data",
       "text": [
        "<IPython.core.display.HTML at 0x105a4b290>"
       ]
      }
     ],
     "prompt_number": 4
    },
    {
     "cell_type": "markdown",
     "metadata": {},
     "source": [
      "Whatever casing convention you choose,\n",
      "please be consistent:\n",
      "complex queries are hard enough to read without the extra cognitive load of random capitalization."
     ]
    },
    {
     "cell_type": "markdown",
     "metadata": {},
     "source": [
      "Going back to our query,\n",
      "it's important to understand that\n",
      "the rows and columns in a database table aren't actually stored in any particular order.\n",
      "They will always be *displayed* in some order,\n",
      "but we can control that in various ways.\n",
      "For example,\n",
      "we could swap the columns in the output by writing our query as:"
     ]
    },
    {
     "cell_type": "code",
     "collapsed": false,
     "input": [
      "%%sqlite person.db\n",
      "select family, personal from Person;"
     ],
     "language": "python",
     "metadata": {},
     "outputs": [
      {
       "html": [
        "<table>\n",
        "<tr><td>William</td><td>Dyer</td></tr>\n",
        "<tr><td>Frank</td><td>Pabodie</td></tr>\n",
        "<tr><td>Anderson</td><td>Lake</td></tr>\n",
        "<tr><td>Valentina</td><td>Roerich</td></tr>\n",
        "<tr><td>Frank</td><td>Danforth</td></tr>\n",
        "</table>"
       ],
       "metadata": {},
       "output_type": "display_data",
       "text": [
        "<IPython.core.display.HTML at 0x102353a10>"
       ]
      }
     ],
     "prompt_number": 4
    },
    {
     "cell_type": "markdown",
     "metadata": {},
     "source": [
      "or even repeat columns:"
     ]
    },
    {
     "cell_type": "code",
     "collapsed": false,
     "input": [
      "%%sqlite person.db\n",
      "select family, family, family from Person;"
     ],
     "language": "python",
     "metadata": {},
     "outputs": [
      {
       "html": [
        "<table>\n",
        "<tr><td>Dyer</td><td>Dyer</td><td>Dyer</td></tr>\n",
        "<tr><td>Pabodie</td><td>Pabodie</td><td>Pabodie</td></tr>\n",
        "<tr><td>Lake</td><td>Lake</td><td>Lake</td></tr>\n",
        "<tr><td>Roerich</td><td>Roerich</td><td>Roerich</td></tr>\n",
        "<tr><td>Danforth</td><td>Danforth</td><td>Danforth</td></tr>\n",
        "</table>"
       ],
       "metadata": {},
       "output_type": "display_data",
       "text": [
        "<IPython.core.display.HTML at 0x105a4b290>"
       ]
      }
     ],
     "prompt_number": 6
    },
    {
     "cell_type": "markdown",
     "metadata": {},
     "source": [
      "As a shortcut,\n",
      "we can select all of the columns in a table using `*`:"
     ]
    },
    {
     "cell_type": "code",
     "collapsed": false,
     "input": [
      "%%sqlite person.db\n",
      "select * from Person;"
     ],
     "language": "python",
     "metadata": {},
     "outputs": [
      {
       "html": [
        "<table>\n",
        "<tr><td>William</td><td>Dyer</td></tr>\n",
        "<tr><td>Frank</td><td>Pabodie</td></tr>\n",
        "<tr><td>Anderson</td><td>Lake</td></tr>\n",
        "<tr><td>Valentina</td><td>Roerich</td></tr>\n",
        "<tr><td>Frank</td><td>Danforth</td></tr>\n",
        "</table>"
       ],
       "metadata": {},
       "output_type": "display_data",
       "text": [
        "<IPython.core.display.HTML at 0x103c8a3d0>"
       ]
      }
     ],
     "prompt_number": 3
    },
    {
     "cell_type": "markdown",
     "metadata": {},
     "source": [
      "#### Challenges\n",
      "\n",
      "1.  Write a query that selects only personal names from the `Person` table.\n",
      "\n",
      "2.  Many people format queries as:\n",
      "\n",
      "    ~~~\n",
      "    SELECT personal, family FROM person;\n",
      "    ~~~\n",
      "\n",
      "    or as:\n",
      "\n",
      "    ~~~\n",
      "    select Personal, Family from PERSON;\n",
      "    ~~~\n",
      "\n",
      "    What style do you find easiest to read, and why?"
     ]
    },
    {
     "cell_type": "markdown",
     "metadata": {
      "cell_tags": [
       "keypoints"
      ]
     },
     "source": [
      "#### Key Points\n",
      "\n",
      "*   A relational database stores information in tables,\n",
      "    each of which has a fixed set of columns and a variable number of records.\n",
      "*   A database manager is a program that manipulates information stored in a database.\n",
      "*   We write queries in a specialized language called SQL to extract information from databases.\n",
      "*   SQL is case-insensitive."
     ]
    }
   ],
   "metadata": {}
  }
 ]
}